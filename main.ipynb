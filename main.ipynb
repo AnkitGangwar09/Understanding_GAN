{
 "cells": [
  {
   "cell_type": "code",
   "execution_count": null,
   "id": "29118e8c",
   "metadata": {},
   "outputs": [],
   "source": [
    "pip install --upgrade google-api-python-client google-auth-httplib2 google-auth-oauthlib\n"
   ]
  },
  {
   "cell_type": "code",
   "execution_count": null,
   "id": "51bbbc77",
   "metadata": {},
   "outputs": [],
   "source": [
    "import os\n",
    "from google.oauth2 import service_account\n",
    "from googleapiclient.discovery import build\n",
    "from googleapiclient.http import MediaFileUpload\n",
    "from tqdm import tqdm\n",
    "\n",
    "# after setting up service account,we download credentials file having different type of keys in it, that folder path\n",
    "SERVICE_ACCOUNT_FILE = 'Replace \\with \\the path to your \\service account JSON.com.json'\n",
    "\n",
    "# Define the folder ID where images will be uploaded, can google it , it is easy to understand what that id is.\n",
    "FOLDER_ID = '19sI__FOLDER_ID__1tRD0Dn'\n",
    "\n",
    "SCOPES = ['https://www.googleapis.com/auth/drive']\n",
    "creds = service_account.Credentials.from_service_account_file(\n",
    "    SERVICE_ACCOUNT_FILE, scopes=SCOPES)\n",
    "service = build('drive', 'v3', credentials=creds)\n",
    "\n",
    "def upload_file(file_path, folder_id):\n",
    "    file_name = os.path.basename(file_path)\n",
    "    media = MediaFileUpload(file_path, resumable=True)\n",
    "    file_metadata = {\n",
    "        'name': file_name,\n",
    "        'parents': [folder_id]\n",
    "    }\n",
    "    service.files().create(body=file_metadata, media_body=media, fields='id').execute()\n",
    "\n",
    "\n",
    "local_image_dir = 'path\\to\\folder\\containgImages'\n",
    "\n",
    "all_files = [os.path.join(local_image_dir, f) for f in os.listdir(local_image_dir)]\n",
    "\n",
    "for img_path in tqdm(all_files, desc=\"Uploading to Google Drive\"):\n",
    "    try:\n",
    "        upload_file(img_path, FOLDER_ID)\n",
    "    except Exception as e:\n",
    "        print(f\"Failed to upload {img_path}: {e}\")\n"
   ]
  }
 ],
 "metadata": {
  "kernelspec": {
   "display_name": "Python 3",
   "language": "python",
   "name": "python3"
  },
  "language_info": {
   "codemirror_mode": {
    "name": "ipython",
    "version": 3
   },
   "file_extension": ".py",
   "mimetype": "text/x-python",
   "name": "python",
   "nbconvert_exporter": "python",
   "pygments_lexer": "ipython3",
   "version": "3.12.0"
  }
 },
 "nbformat": 4,
 "nbformat_minor": 5
}
